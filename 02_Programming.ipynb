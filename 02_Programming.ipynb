{
 "cells": [
  {
   "cell_type": "markdown",
   "metadata": {},
   "source": [
    "# Session 1.2: Programming\n",
    "\n",
    "So you know the basics of individual instructions and that a program is just a series of instructions. But the real strength of programming isn't just running (or executing) one instruction after another. Based on how the expressions evaluate, the program can decide to skip instructions, repeat them, or choose one of several instructions to run. In fact, you almost never want your programs to start from the first line of code and simply execute every line, straight to the end. _Control flow statements_ can decide which Python instructions to execute under which conditions."
   ]
  },
  {
   "cell_type": "markdown",
   "metadata": {},
   "source": [
    "## Conditional Statements"
   ]
  },
  {
   "cell_type": "markdown",
   "metadata": {},
   "source": [
    "### Boolean values and Comparison Operators\n",
    "\n",
    "_Boolean_ data type has only two values: `True` and `False`.\n",
    "\n",
    "_Comparison operators_ (`==`, `!=`, `<`, `>`, `<=`, `>=`) compare two values and evaluate down to a single Boolean value."
   ]
  },
  {
   "cell_type": "markdown",
   "metadata": {},
   "source": [
    "The `==` and `!=` operators can actually work with values of any data type"
   ]
  },
  {
   "cell_type": "markdown",
   "metadata": {},
   "source": [
    "<div class=\"alert alert-block alert-info\">\n",
    "Why the expresion in a previous cell is `False`?\n",
    "</div>"
   ]
  },
  {
   "cell_type": "markdown",
   "metadata": {},
   "source": [
    "The `<`, `>`, `<=`, and `>=` operators, on the other hand, work always properly only with integer and floating-point values."
   ]
  },
  {
   "cell_type": "code",
   "execution_count": null,
   "metadata": {},
   "outputs": [],
   "source": [
    "myAge = 29\n",
    "print(\"myAge == 10 is\", myAge == 10, \", but myAge >= 10 is\", myAge >= 10)"
   ]
  },
  {
   "cell_type": "markdown",
   "metadata": {},
   "source": [
    "### Boolean Operators\n",
    "\n",
    "The three Boolean operators (`and`, `or`, and `not`) are used to compare Boolean values. Like comparison operators, they evaluate these expressions down to a Boolean value. Since the comparison operators evaluate to Boolean values, you can use them in expressions with the Boolean operators."
   ]
  },
  {
   "cell_type": "code",
   "execution_count": null,
   "metadata": {},
   "outputs": [],
   "source": [
    "2 + 2 == 4 and not 2 + 2 != 5 and 2 * 2 != 2 + 2"
   ]
  },
  {
   "cell_type": "markdown",
   "metadata": {},
   "source": [
    "<div class=\"alert alert-block alert-info\">\n",
    "Modify the previous cell to make it `True`. Use brackets `(` `)` to make it readable.\n",
    "</div>"
   ]
  },
  {
   "cell_type": "markdown",
   "metadata": {},
   "source": [
    "## Flow Control Statements\n",
    "### *if-elif-else* Statements"
   ]
  },
  {
   "cell_type": "markdown",
   "metadata": {},
   "source": [
    "The most common type of control flow statement is the `if` statement. An `if` _statement's clause_ will execute if the statement's condition is `True`. The _clause_ is skipped if the condition is `False`. The `else` _clause_ is executed only when the `if` statement's condition is `False`. While only one of the `if` or `else` clauses will execute, you may have a case where you want one of many possible clauses to execute. The `elif` statement is an “else if” statement that always follows an `if` or another `elif` statement. It provides another condition that is checked only if all of the previous conditions were `False`."
   ]
  },
  {
   "cell_type": "markdown",
   "metadata": {},
   "source": [
    "### *for* loop \n",
    "\n",
    "I hope it was a little bit annoying to type all 5 number and repeat execution of code by yourself. This is where loops are used. If you want to execute a block of code only a certain number of times, you can do this with a `for` loop statement."
   ]
  },
  {
   "cell_type": "markdown",
   "metadata": {},
   "source": [
    "Or you can ask to type a value 5 times using `range()` function."
   ]
  },
  {
   "cell_type": "markdown",
   "metadata": {},
   "source": [
    "The `range()` function can also be called with two or three arguments. The first two arguments will be the start and stop values, and the third will be the step argument. The step is the amount that the variable is increased by after each iteration."
   ]
  },
  {
   "cell_type": "markdown",
   "metadata": {},
   "source": [
    "### *while*  loop with *break* and *continue*"
   ]
  },
  {
   "cell_type": "markdown",
   "metadata": {},
   "source": [
    "In the `while` loop, the condition is always checked at the start of each iteration (that is, each time the loop is executed). If the condition is `True`, then the clause is executed, and afterward, the condition is checked again. The first time the condition is found to be `False`, the `while` clause is skipped. If the execution reaches a `break` statement, it immediately exits the `while` loop's clause. When the program execution reaches a `continue` statement, the program execution immediately jumps back to the start of the loop and reevaluates the loop's condition. (This is also what happens when the execution reaches the end of the loop.) Note: You can use `break` and `continue` statements inside `for` loops as well."
   ]
  },
  {
   "cell_type": "code",
   "execution_count": null,
   "metadata": {},
   "outputs": [],
   "source": [
    "# This is a guess the number game.\n",
    "import random\n",
    "secretNumber = random.randint(1, 10)\n",
    "print('I am thinking of a number between 1 and 10.')\n",
    "\n",
    "# Infinite Loop\n",
    "guessesTaken = 1\n",
    "while True:\n",
    "    print('Take a guess.')\n",
    "    guess = int(input())\n",
    "\n",
    "    if guess < secretNumber:\n",
    "        print('Your guess is too low.')\n",
    "    elif guess > secretNumber:\n",
    "        print('Your guess is too high.')\n",
    "    else:\n",
    "        break    # This condition is the correct guess!\n",
    "    guessesTaken += 1\n",
    "\n",
    "if guess == secretNumber:\n",
    "    print('Good job! You guessed my number in ' + str(guessesTaken) + ' guesses!')\n",
    "else:\n",
    "    print('Nope. The number I was thinking of was ' + str(secretNumber))"
   ]
  },
  {
   "cell_type": "code",
   "execution_count": null,
   "metadata": {},
   "outputs": [],
   "source": []
  },
  {
   "cell_type": "markdown",
   "metadata": {},
   "source": [
    "To stop the infinite loop you would have to interrupt the kernel (a button with black square)."
   ]
  },
  {
   "cell_type": "markdown",
   "metadata": {},
   "source": [
    "<div class=\"alert alert-block alert-info\">\n",
    "Modify an example above using `for` loop and allow a user maximum 5 attempt s to guess a number:\n",
    "</div>"
   ]
  },
  {
   "cell_type": "markdown",
   "metadata": {},
   "source": [
    "##### Non-Primitive Data Structures"
   ]
  },
  {
   "cell_type": "markdown",
   "metadata": {},
   "source": [
    "Non-primitive types don't just store a value, but rather a collection of values in various formats. \n",
    "\n",
    "### Arrays\n",
    "\n",
    "First off, arrays in Python are a compact way of collecting basic data types, all the entries in an array must be of the same data type. However, arrays are not all that popular in Python and not a build in type, unlike the other programming languages. To work with them you would need to `import` additional libraries.\n",
    "\n",
    "In general, when people talk of arrays in Python, they are actually referring to `lists`. However, there is a fundamental difference between them and you will see this later, when we will work with `numpy` library. First we will consider, what is `list`."
   ]
  },
  {
   "cell_type": "markdown",
   "metadata": {},
   "source": [
    "### Lists\n",
    "\n",
    "A `list` is a value that contains multiple values in an ordered sequence. These are mutable, which means that you can change their content without changing their identity. You can recognize lists by their square brackets `[` and `]` that hold elements, separated by a comma `,`. Lists are built into Python: you do not need to invoke them separately.  "
   ]
  },
  {
   "cell_type": "markdown",
   "metadata": {},
   "source": [
    "The *my_list* variable is still assigned only one value: the `list` value. But the `list` value itself contains other values. The value `[]` is an empty list that contains no values"
   ]
  },
  {
   "cell_type": "markdown",
   "metadata": {},
   "source": [
    "Whenever we want to access an element of a list we can do so by typing the list name and the index of the element in square brackets. Index starts at zero."
   ]
  },
  {
   "cell_type": "markdown",
   "metadata": {},
   "source": [
    "Indexing of list can be used to get certain elements in various ways. Here are some examples:"
   ]
  },
  {
   "cell_type": "markdown",
   "metadata": {},
   "source": [
    "<div class=\"alert alert-block alert-info\">\n",
    "Try to get __[1,3,5]__ from my_list as output.\n",
    "</div>"
   ]
  },
  {
   "cell_type": "markdown",
   "metadata": {},
   "source": [
    "This should remind you of a `strings` examples. `Lists` and `strings` have many common properties, such as indexing and slicing operations."
   ]
  },
  {
   "cell_type": "markdown",
   "metadata": {},
   "source": [
    "By using the index elements of a list can be altered."
   ]
  },
  {
   "cell_type": "markdown",
   "metadata": {},
   "source": [
    "`Lists` can also contain other `list` values. The values in these lists of lists can be accessed using multiple indexes."
   ]
  },
  {
   "cell_type": "code",
   "execution_count": null,
   "metadata": {},
   "outputs": [],
   "source": [
    "spam = [['cat', 'bat'], [10, 20, 30, 40, 50]]\n",
    "spam"
   ]
  },
  {
   "cell_type": "markdown",
   "metadata": {},
   "source": [
    "<div class=\"alert alert-block alert-info\">\n",
    "    Try to use print `['cat', 'bat']` and  `[20, 30, 40]` (use a list slice), then change `30` to `3000`.\n",
    "</div>"
   ]
  },
  {
   "cell_type": "code",
   "execution_count": null,
   "metadata": {},
   "outputs": [],
   "source": []
  },
  {
   "cell_type": "markdown",
   "metadata": {},
   "source": [
    "`Lists` can be concatenated using `+` and replicated with `*`. You can determine whether a value is or isn't in a list with the `in` and `not in` operators."
   ]
  },
  {
   "cell_type": "markdown",
   "metadata": {},
   "source": [
    "Python provides many more methods to manipulate and work with `lists`. Adding new items to a list, removing some items from a list, sorting or reversing a list are common list manipulations. Try some of them in action (use help if you are not sure how some of the functions work):"
   ]
  },
  {
   "cell_type": "code",
   "execution_count": null,
   "metadata": {},
   "outputs": [],
   "source": [
    "spam = ['cat', 'dog', 'bat']\n",
    "spam.append('moose')\n",
    "spam"
   ]
  },
  {
   "cell_type": "code",
   "execution_count": null,
   "metadata": {},
   "outputs": [],
   "source": [
    "spam.insert(1, 'chicken')\n",
    "spam"
   ]
  },
  {
   "cell_type": "code",
   "execution_count": null,
   "metadata": {},
   "outputs": [],
   "source": [
    "spam.extend(['bat', 'horse'])\n",
    "spam"
   ]
  },
  {
   "cell_type": "code",
   "execution_count": null,
   "metadata": {},
   "outputs": [],
   "source": [
    "help(spam.extend)"
   ]
  },
  {
   "cell_type": "markdown",
   "metadata": {},
   "source": [
    "<div class=\"alert alert-block alert-info\">\n",
    "Type `spam.` and press `Tab`. You will see, which other functions are avaliable to `list`. Try some of them below and get `help()` if you don't know how to use them.\n",
    "</div>"
   ]
  },
  {
   "cell_type": "code",
   "execution_count": null,
   "metadata": {},
   "outputs": [],
   "source": []
  },
  {
   "cell_type": "markdown",
   "metadata": {},
   "source": [
    "#### Referencing\n",
    "\n",
    "One important distinction between simple variables and list is when you assign a list to a variable, you are actually assigning a list _reference_ to the variable. A _reference_ is a value that points to some bit of data, and a list reference is a value that points to a list. Here is some code that will make this distinction easier to understand:"
   ]
  },
  {
   "cell_type": "code",
   "execution_count": null,
   "metadata": {},
   "outputs": [],
   "source": [
    "# simple variables\n",
    "spam = 42\n",
    "cheese = spam\n",
    "spam = 100\n",
    "print(\"spam: \", spam)\n",
    "print(\"cheese: \", cheese)"
   ]
  },
  {
   "cell_type": "code",
   "execution_count": null,
   "metadata": {},
   "outputs": [],
   "source": [
    "# list variables\n",
    "spam = [0, 1, 2, 3, 4, 5]\n",
    "cheese = spam"
   ]
  },
  {
   "cell_type": "markdown",
   "metadata": {},
   "source": [
    "This might look odd to you. The code changed only the `cheese` list, but it seems that both the `cheese` and `spam` lists have changed. When you create the first list, you assign a reference to it in the `spam` variable. But the line  `cheese = spam` copies only the list reference in `spam` to `cheese`, not the list value itself. This means the values stored in `spam` and `cheese` now both refer to the same list. There is only one underlying list because the list itself was never actually copied. So when you modify the first element of `cheese`, you are modifying the same list that `spam` refers to.\n",
    "\n",
    "It might sound complicated, but it's important to know to prevent errors in the future. Remember, if you want a copy of a `list` you cannot just assign it to new variable, you need to use the next options:"
   ]
  },
  {
   "cell_type": "code",
   "execution_count": null,
   "metadata": {},
   "outputs": [],
   "source": [
    "spam = [0, 1, 2, 3, 4, 5]"
   ]
  },
  {
   "cell_type": "code",
   "execution_count": null,
   "metadata": {},
   "outputs": [],
   "source": [
    "cheese[1] = 'Hello!'\n",
    "print(\"spam: \", spam)\n",
    "print(\"cheese: \", cheese)"
   ]
  },
  {
   "cell_type": "code",
   "execution_count": null,
   "metadata": {},
   "outputs": [],
   "source": [
    "cheese[1] = 'World!'\n",
    "print(\"spam: \", spam)\n",
    "print(\"cheese: \", cheese)"
   ]
  },
  {
   "cell_type": "code",
   "execution_count": null,
   "metadata": {},
   "outputs": [],
   "source": [
    "cheese[1] = 'Hello again!'\n",
    "print(\"spam: \", spam)\n",
    "print(\"cheese: \", cheese)"
   ]
  },
  {
   "cell_type": "markdown",
   "metadata": {},
   "source": [
    "### Tuples\n",
    "\n",
    "`Tuples` are another standard sequence data type. The difference between `tuples` and `list` is that tuples are _immutable_, which means once defined you cannot delete, add or edit any values inside it. `Tuples` are typed with parentheses, `(` and `)`, instead of square brackets, `[` and `]`."
   ]
  },
  {
   "cell_type": "markdown",
   "metadata": {},
   "source": [
    "If you need an ordered sequence of values that never changes, use a `tuple`. A second benefit of using `tuples` instead of `lists` is that, because they are immutable and their contents don’t change, Python can implement some optimizations that make code using `tuples` slightly faster than code using `lists`. Converting a `tuple` to a `list` is handy if you need a mutable version of a tuple value."
   ]
  },
  {
   "cell_type": "markdown",
   "metadata": {},
   "source": [
    "But notice a difference between the next two cases:"
   ]
  },
  {
   "cell_type": "code",
   "execution_count": null,
   "metadata": {},
   "outputs": [],
   "source": [
    "print(\"Type of ('hello',) is\", type(('hello',)), \"and of ('hello') is \", type(('hello')))"
   ]
  },
  {
   "cell_type": "markdown",
   "metadata": {},
   "source": [
    "### Sets\n",
    "\n",
    "`Sets` are a collection of distinct (unique) objects. These are useful to create lists that only hold unique values in the dataset. It is an unordered collection but a mutable one, this is very helpful when going through a huge dataset. `Set` objects also support mathematical operations like union `|`, intersection `&`, difference `-`, and symmetric difference `^`.\n",
    "\n",
    "Curly braces, `{` and`}` or the `set()` function can be used to create sets. Note: to create an empty set you have to use `set()`, not `{}`; the latter creates an empty __dictionary__, a data structure that we discuss in the next section."
   ]
  },
  {
   "cell_type": "code",
   "execution_count": null,
   "metadata": {},
   "outputs": [],
   "source": [
    "# Demonstrate set operations on unique letters from two words\n",
    "a = set('abracadabra')\n",
    "b = set('alacazam')\n",
    "a                                  # unique letters in a"
   ]
  },
  {
   "cell_type": "code",
   "execution_count": null,
   "metadata": {},
   "outputs": [],
   "source": [
    "random_protein_sequences = ['HVHHE', 'RPTKT', 'RPTKT',  'KMPFI', 'PCRTR', 'HVHHE', 'KRPGP',\n",
    "                            'DTGTN', 'FDTGW', 'HVHHE', 'HVHHE', 'VDCPF', 'MTDQC', 'THHMI',\n",
    "                            'KRPGP', 'KMPFI', 'HVHHE', 'KRPGP', 'KRPGP']"
   ]
  },
  {
   "cell_type": "markdown",
   "metadata": {},
   "source": [
    "<div class=\"alert alert-block alert-info\">\n",
    "Print only unique elements from the `random_protein_sequences`. Make two versions: with and without using `set`. Hint: for a version without `set` you would need to create an additional list, which contain all already seen elements and use `for`, `if` and `not in` statments.\n",
    "</div>"
   ]
  },
  {
   "cell_type": "code",
   "execution_count": null,
   "metadata": {},
   "outputs": [],
   "source": [
    "# version 1: with set\n",
    "\n",
    "\n",
    "\n",
    "# version 2: without set\n",
    "seen_elements = []\n",
    "for ...:\n",
    "    \n",
    "\n"
   ]
  },
  {
   "cell_type": "markdown",
   "metadata": {},
   "source": [
    "### Dictionaries\n",
    "\n",
    "`Dictionaries` are exactly what you need if you want to implement something similar to a telephone book. None of the data structures that you have seen before are suitable for a telephone book. \n",
    "\n",
    "Like a `list`, a `dictionary` is a collection of many values. Unlike `lists`, which are indexed by a range of numbers, `dictionaries` are indexed by _keys_, indexes for dictionaries can use many different data types, not just integers. It is best to think of a dictionary as an unordered set of `key: value` pairs, with the requirement that the keys are _unique_ (within one dictionary). A pair of braces creates an empty dictionary: `{`,`}`."
   ]
  },
  {
   "cell_type": "code",
   "execution_count": null,
   "metadata": {},
   "outputs": [],
   "source": [
    "#First we define the dictionary.\n",
    "ages = {'Andi':88, 'Emily':6, 'Petra':24, \n",
    "             'Lewis':19}"
   ]
  },
  {
   "cell_type": "code",
   "execution_count": null,
   "metadata": {},
   "outputs": [],
   "source": [
    "# make a check, who is in a dictionary and if there is noone with this name, we will add them\n",
    "\n",
    "print(\"Please, type a name\")\n",
    "\n",
    "name_in = str(input())\n",
    "if name_in in ages:\n",
    "    print (name_in, \" is in the dictionary and is\", ages[name_in], \"years old\")\n",
    "else:\n",
    "    print (name_in, \" is not in the dictionary. Would you like to add \", name_in, \"? (y/n)\")\n",
    "    answer = str(input())\n",
    "    if answer == 'y':\n",
    "        print(\"Please type an age of \", name_in, \":\")\n",
    "        age_in = int(input())\n",
    "        ages[name_in] = age_in\n",
    "        "
   ]
  },
  {
   "cell_type": "markdown",
   "metadata": {},
   "source": [
    "<div class=\"alert alert-block alert-info\">\n",
    "A year has passed. Icrease an age of all people in the dictionary by 1. Use the code below.\n",
    "</div>"
   ]
  },
  {
   "cell_type": "code",
   "execution_count": null,
   "metadata": {},
   "outputs": [],
   "source": [
    "for key, value in my_dictionary.items(): # iteration over dictionary\n",
    "    print(key, value)"
   ]
  },
  {
   "cell_type": "code",
   "execution_count": null,
   "metadata": {},
   "outputs": [],
   "source": []
  }
 ],
 "metadata": {
  "kernelspec": {
   "display_name": "Python 3",
   "language": "python",
   "name": "python3"
  },
  "language_info": {
   "codemirror_mode": {
    "name": "ipython",
    "version": 3
   },
   "file_extension": ".py",
   "mimetype": "text/x-python",
   "name": "python",
   "nbconvert_exporter": "python",
   "pygments_lexer": "ipython3",
   "version": "3.5.2"
  },
  "toc": {
   "base_numbering": 1,
   "nav_menu": {},
   "number_sections": false,
   "sideBar": true,
   "skip_h1_title": false,
   "title_cell": "Table of Contents",
   "title_sidebar": "Contents",
   "toc_cell": false,
   "toc_position": {},
   "toc_section_display": "block",
   "toc_window_display": false
  }
 },
 "nbformat": 4,
 "nbformat_minor": 2
}
