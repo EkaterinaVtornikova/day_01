{
 "cells": [
  {
   "cell_type": "markdown",
   "metadata": {},
   "source": [
    "# \"Magic 8 Ball with a List\" game "
   ]
  },
  {
   "cell_type": "code",
   "execution_count": 4,
   "metadata": {},
   "outputs": [],
   "source": [
    "from random import shuffle # this part we will learn letter"
   ]
  },
  {
   "cell_type": "code",
   "execution_count": 5,
   "metadata": {},
   "outputs": [],
   "source": [
    "messages = ['It is certain', 'It is decidedly so',  'Yes definitely',  \n",
    "            'Reply hazy try again', 'Ask again later', 'Concentrate and ask again', \n",
    "            'My reply is no', 'Outlook not so good', 'Very doubtful']\n",
    "\n",
    "shuffle(messages) # this function will mix the elements of the list"
   ]
  },
  {
   "cell_type": "code",
   "execution_count": 6,
   "metadata": {},
   "outputs": [
    {
     "name": "stdout",
     "output_type": "stream",
     "text": [
      "Ask a question to a ball and press any key to get your prediction\n",
      "My reply is no\n"
     ]
    }
   ],
   "source": [
    "input(\"Ask a question to a ball and press any key to get your prediction\")\n",
    "\n",
    "print(messages[0])"
   ]
  },
  {
   "cell_type": "code",
   "execution_count": null,
   "metadata": {},
   "outputs": [],
   "source": []
  }
 ],
 "metadata": {
  "kernelspec": {
   "display_name": "Python 3",
   "language": "python",
   "name": "python3"
  },
  "language_info": {
   "codemirror_mode": {
    "name": "ipython",
    "version": 3
   },
   "file_extension": ".py",
   "mimetype": "text/x-python",
   "name": "python",
   "nbconvert_exporter": "python",
   "pygments_lexer": "ipython3",
   "version": "3.6.5"
  }
 },
 "nbformat": 4,
 "nbformat_minor": 2
}
